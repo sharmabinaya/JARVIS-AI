{
  "nbformat": 4,
  "nbformat_minor": 0,
  "metadata": {
    "colab": {
      "provenance": [],
      "authorship_tag": "ABX9TyNihfNuLJvPTPsDU1UB6ytE",
      "include_colab_link": true
    },
    "kernelspec": {
      "name": "python3",
      "display_name": "Python 3"
    },
    "language_info": {
      "name": "python"
    }
  },
  "cells": [
    {
      "cell_type": "markdown",
      "metadata": {
        "id": "view-in-github",
        "colab_type": "text"
      },
      "source": [
        "<a href=\"https://colab.research.google.com/github/sharmabinaya/JARVIS-AI/blob/main/jarvis.ipynb\" target=\"_parent\"><img src=\"https://colab.research.google.com/assets/colab-badge.svg\" alt=\"Open In Colab\"/></a>"
      ]
    },
    {
      "cell_type": "code",
      "execution_count": 24,
      "metadata": {
        "colab": {
          "base_uri": "https://localhost:8080/"
        },
        "id": "5r-jxRmbx6RY",
        "outputId": "00ae67f4-0585-46c2-8150-4702e45d00bf"
      },
      "outputs": [
        {
          "output_type": "stream",
          "name": "stdout",
          "text": [
            "Requirement already satisfied: SpeechRecognition in /usr/local/lib/python3.11/dist-packages (3.14.1)\n",
            "Requirement already satisfied: pyttsx3 in /usr/local/lib/python3.11/dist-packages (2.98)\n",
            "Requirement already satisfied: pywhatkit in /usr/local/lib/python3.11/dist-packages (5.4)\n",
            "Requirement already satisfied: typing-extensions in /usr/local/lib/python3.11/dist-packages (from SpeechRecognition) (4.12.2)\n",
            "Requirement already satisfied: Pillow in /usr/local/lib/python3.11/dist-packages (from pywhatkit) (11.1.0)\n",
            "Requirement already satisfied: pyautogui in /usr/local/lib/python3.11/dist-packages (from pywhatkit) (0.9.54)\n",
            "Requirement already satisfied: requests in /usr/local/lib/python3.11/dist-packages (from pywhatkit) (2.32.3)\n",
            "Requirement already satisfied: wikipedia in /usr/local/lib/python3.11/dist-packages (from pywhatkit) (1.4.0)\n",
            "Requirement already satisfied: Flask in /usr/local/lib/python3.11/dist-packages (from pywhatkit) (3.1.0)\n",
            "Requirement already satisfied: Werkzeug>=3.1 in /usr/local/lib/python3.11/dist-packages (from Flask->pywhatkit) (3.1.3)\n",
            "Requirement already satisfied: Jinja2>=3.1.2 in /usr/local/lib/python3.11/dist-packages (from Flask->pywhatkit) (3.1.5)\n",
            "Requirement already satisfied: itsdangerous>=2.2 in /usr/local/lib/python3.11/dist-packages (from Flask->pywhatkit) (2.2.0)\n",
            "Requirement already satisfied: click>=8.1.3 in /usr/local/lib/python3.11/dist-packages (from Flask->pywhatkit) (8.1.8)\n",
            "Requirement already satisfied: blinker>=1.9 in /usr/local/lib/python3.11/dist-packages (from Flask->pywhatkit) (1.9.0)\n",
            "Requirement already satisfied: python3-Xlib in /usr/local/lib/python3.11/dist-packages (from pyautogui->pywhatkit) (0.15)\n",
            "Requirement already satisfied: pymsgbox in /usr/local/lib/python3.11/dist-packages (from pyautogui->pywhatkit) (1.0.9)\n",
            "Requirement already satisfied: pytweening>=1.0.4 in /usr/local/lib/python3.11/dist-packages (from pyautogui->pywhatkit) (1.2.0)\n",
            "Requirement already satisfied: pyscreeze>=0.1.21 in /usr/local/lib/python3.11/dist-packages (from pyautogui->pywhatkit) (1.0.1)\n",
            "Requirement already satisfied: pygetwindow>=0.0.5 in /usr/local/lib/python3.11/dist-packages (from pyautogui->pywhatkit) (0.0.9)\n",
            "Requirement already satisfied: mouseinfo in /usr/local/lib/python3.11/dist-packages (from pyautogui->pywhatkit) (0.1.3)\n",
            "Requirement already satisfied: charset-normalizer<4,>=2 in /usr/local/lib/python3.11/dist-packages (from requests->pywhatkit) (3.4.1)\n",
            "Requirement already satisfied: idna<4,>=2.5 in /usr/local/lib/python3.11/dist-packages (from requests->pywhatkit) (3.10)\n",
            "Requirement already satisfied: urllib3<3,>=1.21.1 in /usr/local/lib/python3.11/dist-packages (from requests->pywhatkit) (2.3.0)\n",
            "Requirement already satisfied: certifi>=2017.4.17 in /usr/local/lib/python3.11/dist-packages (from requests->pywhatkit) (2024.12.14)\n",
            "Requirement already satisfied: beautifulsoup4 in /usr/local/lib/python3.11/dist-packages (from wikipedia->pywhatkit) (4.12.3)\n",
            "Requirement already satisfied: MarkupSafe>=2.0 in /usr/local/lib/python3.11/dist-packages (from Jinja2>=3.1.2->Flask->pywhatkit) (3.0.2)\n",
            "Requirement already satisfied: pyrect in /usr/local/lib/python3.11/dist-packages (from pygetwindow>=0.0.5->pyautogui->pywhatkit) (0.2.0)\n",
            "Requirement already satisfied: soupsieve>1.2 in /usr/local/lib/python3.11/dist-packages (from beautifulsoup4->wikipedia->pywhatkit) (2.6)\n",
            "Requirement already satisfied: pyperclip in /usr/local/lib/python3.11/dist-packages (from mouseinfo->pyautogui->pywhatkit) (1.9.0)\n"
          ]
        }
      ],
      "source": [
        "!pip install SpeechRecognition pyttsx3 pywhatkit\n",
        "\n",
        "from google.colab.patches import cv2_imshow"
      ]
    },
    {
      "cell_type": "code",
      "source": [
        "!python Jarvis.py"
      ],
      "metadata": {
        "colab": {
          "base_uri": "https://localhost:8080/"
        },
        "id": "M4v_Fh2AyPBK",
        "outputId": "00aaed27-d50a-4d06-9102-3dc59cf27058"
      },
      "execution_count": 25,
      "outputs": [
        {
          "output_type": "stream",
          "name": "stdout",
          "text": [
            "Traceback (most recent call last):\n",
            "  File \"/content/Jarvis.py\", line 3, in <module>\n",
            "    import pywhatkit\n",
            "  File \"/usr/local/lib/python3.11/dist-packages/pywhatkit/__init__.py\", line 16, in <module>\n",
            "    from pywhatkit.whats import (\n",
            "  File \"/usr/local/lib/python3.11/dist-packages/pywhatkit/whats.py\", line 7, in <module>\n",
            "    import pyautogui as pg\n",
            "  File \"/usr/local/lib/python3.11/dist-packages/pyautogui/__init__.py\", line 246, in <module>\n",
            "    import mouseinfo\n",
            "  File \"/usr/local/lib/python3.11/dist-packages/mouseinfo/__init__.py\", line 223, in <module>\n",
            "    _display = Display(os.environ['DISPLAY'])\n",
            "                       ~~~~~~~~~~^^^^^^^^^^^\n",
            "  File \"<frozen os>\", line 679, in __getitem__\n",
            "KeyError: 'DISPLAY'\n"
          ]
        }
      ]
    }
  ]
}